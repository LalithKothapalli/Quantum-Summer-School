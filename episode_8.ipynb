{
 "cells": [
  {
   "cell_type": "markdown",
   "id": "bc47e632-2e59-4287-b8a7-b134f720877f",
   "metadata": {},
   "source": [
    "<div style=\"background-color:rgba(78, 188, 130, 0.05); text-align:center; vertical-align: middle; padding:20px 0;border:3px; border-style:solid; padding: 0.5em; border-color: rgba(78, 188, 130, 1.0); color: #000000;\">\n",
    "\n",
    "<img src=\"figs/qr_logo.png\" width=\"700\"/>\n",
    "\n",
    "<h1><strong>Quantum Summer School</strong></h1>\n",
    "\n",
    "<h2><strong>Episode 8</strong></h2>\n",
    "\n",
    "<h3><strong>Quantum Fourier Transform & Quantum Phase Estimation</strong></h3>\n",
    "\n",
    "</div>"
   ]
  },
  {
   "cell_type": "markdown",
   "id": "66f0f9eb-74a7-49c0-bca5-f31d45b091a5",
   "metadata": {},
   "source": [
    "*In this session, we’ll learn the Quantum Fourier Transform and use it to perform Quantum Phase Estimation.*"
   ]
  },
  {
   "cell_type": "markdown",
   "id": "3af8ed8f-8d1f-46d9-9980-a30fd251c895",
   "metadata": {},
   "source": [
    "<div style=\"background-color:rgba(255, 248, 240, 1.0); text-align:left; vertical-align: middle; padding:20px 0;border:3px; border-style:solid; padding: 0.5em; border-color: rgba(255, 142, 0, 1.0); color: #000000;\">\n",
    "\n",
    "## Objectives\n",
    "1. Explore classical Fourier transform\n",
    "2. Understand the quantum Fourier transform\n",
    "3. Run the Quantum Phase Estimation Algorithm\n",
    "\n",
    "<div/>"
   ]
  },
  {
   "cell_type": "markdown",
   "id": "628391b1-fef6-4816-9794-2e659a47ffb2",
   "metadata": {},
   "source": [
    "## Setup & Imports"
   ]
  },
  {
   "cell_type": "code",
   "execution_count": null,
   "id": "47361186-771d-4b90-9054-b6795644a2b4",
   "metadata": {},
   "outputs": [],
   "source": [
    "from qiskit import QuantumCircuit, QuantumRegister, ClassicalRegister, transpile\n",
    "from qiskit.circuit.library import GroverOperator, MCMT, ZGate\n",
    "from qiskit.circuit.library import QFT as qkQFT\n",
    "from qiskit.visualization import plot_histogram\n",
    "from quantumrings.toolkit.qiskit import QrBackendV2, QrSamplerV1\n",
    "from QuantumRingsLib import QuantumRingsProvider\n",
    "from qiskit.quantum_info import Statevector\n",
    "import matplotlib.pyplot as plt\n",
    "import numpy as np\n",
    "import scipy.fft as sp\n",
    "\n",
    "# Provider & backend (toolkit)\n",
    "provider = QuantumRingsProvider()\n",
    "backend = QrBackendV2(provider, num_qubits=2)"
   ]
  },
  {
   "cell_type": "markdown",
   "id": "f2878dcd-733c-4fe4-a0cb-d3d0cf027576",
   "metadata": {},
   "source": [
    "# Helper Functions"
   ]
  },
  {
   "cell_type": "markdown",
   "id": "a5d9e20b-445c-4738-b95b-bfae6273e6d8",
   "metadata": {},
   "source": [
    "Functions to convert a decimal to binary fractions (ex. 1/10 --> 0.00011), and convert a binary number to an integer (ex. 10 --> 2)."
   ]
  },
  {
   "cell_type": "code",
   "execution_count": null,
   "id": "e8faa8f2-0ab7-499d-8f54-8a553b233bb0",
   "metadata": {},
   "outputs": [],
   "source": [
    "def decimal_to_binary_fraction(x, bits=20):\n",
    "\n",
    "    binary = \"0.\"\n",
    "    for _ in range(bits):\n",
    "        x *= 2\n",
    "        if x >= 1:\n",
    "            binary += \"1\"\n",
    "            x -= 1\n",
    "        else:\n",
    "            binary += \"0\"\n",
    "\n",
    "    return binary\n",
    "\n",
    "def binary_to_int(binary):\n",
    "    return int(binary, 2)\n",
    "\n",
    "def binary_conversion(fraction):\n",
    "    binary_fraction = decimal_to_binary_fraction(fraction, bits=5)\n",
    "    integer = binary_to_int(binary_fraction[2:])\n",
    "    print(f'We expect to measure {binary_fraction}, which corresponds to basis state k={integer}')"
   ]
  },
  {
   "cell_type": "markdown",
   "id": "66df6ab0-94a7-4105-8eb5-463a4ad7bd43",
   "metadata": {},
   "source": [
    "# 1. Classical Fourier Transform"
   ]
  },
  {
   "cell_type": "markdown",
   "id": "f76055c7-4f29-4b87-bc1f-035f012cf8f0",
   "metadata": {},
   "source": [
    "<div style=\"background-color:rgba(255, 245, 253, 1.0); text-align:left; vertical-align: middle; padding:20px 0;border:3px; border-style:solid; padding: 0.5em; border-color: rgba(255, 142, 235, 1.0); color: #000000;\">\n",
    "\n",
    "The Fourier transform is a function which transforms us between two different domains. Two common examples are the time and frequency domains, and the position and momentum domains. The Fourier tranform is a very powerful mathematical tool. For example, if we have an audio signal (which is amplitude of noise in the time domain), we can apply the Fourier transform to find out what frequencies exist within the signal. This can be used for applications like voice recognition, since the frequency composition of phonetic sounds can decipher speech. Other examples include ECGs (electrocardiograms), where the Fourier transform can detect abnormalities in heartbeat rhythm. \n",
    "\n",
    "The Fourier transform is also very powerful in quantum computing, because it can be used to detect periodicity. The quantum Fourier tranform (QFT) is an essential component in Shor's factoring algorithm and many other foundational quantum algorithms. Before we build the QFT, let's first play around with the classical Fourier transform.\n",
    "\n",
    "Mathematically, the Fourier transform maps a vector $\\vec{x} = (x_0,x_1,\\cdots x_{N-1})$ to another vector $FT(\\vec{x}) = \\vec{y} = (y_0,y_1,\\cdots y_{N-1})$, where:\n",
    "\n",
    "$$ y_k = \\frac{1}{\\sqrt{N}} \\sum_{j=0}^{N-1} e^{-2\\pi i k j/N} x_j$$\n",
    "\n",
    "The inverse Fourier transform maps in the opposite direction, so $IFT(\\vec{y}) = \\vec{x}$, and this corresponds to:\n",
    "\n",
    "$$ x_k = \\frac{1}{\\sqrt{N}} \\sum_{j=0}^{N-1} e^{2\\pi i k j/N} y_j$$\n",
    "\n",
    "<div/>"
   ]
  },
  {
   "cell_type": "markdown",
   "id": "47918230-b94a-4458-be46-807b5bba019c",
   "metadata": {},
   "source": [
    "### A sine wave signal\n",
    "\n",
    "Let's make a sine wave signal (in the time domain), and then apply the FT."
   ]
  },
  {
   "cell_type": "code",
   "execution_count": null,
   "id": "a94e3c38-c368-409f-94f6-fa04f2b8cca2",
   "metadata": {},
   "outputs": [],
   "source": [
    "# frequency in Hz\n",
    "frequency = ###\n",
    "\n",
    "# duration of measurement and samples\n",
    "duration = 3\n",
    "samples = 100\n",
    "sample_rate = samples / duration\n",
    "\n",
    "x = np.linspace(0, duration, samples, endpoint=False)\n",
    "\n",
    "# sine wave at given frequency\n",
    "y = np.sin(2 * np.pi * frequency * x)\n",
    "\n",
    "plt.plot(x,y, '.', ls='-', lw=0.5)\n",
    "plt.xlabel('Time [s]')\n",
    "plt.ylabel('Amplitude')\n",
    "plt.title(f'Frequency = {round(frequency,2)} Hz')\n",
    "plt.show()"
   ]
  },
  {
   "cell_type": "code",
   "execution_count": null,
   "id": "8825a148-6a3a-4041-8abe-ee6f71486eef",
   "metadata": {},
   "outputs": [],
   "source": [
    "# fourier transform\n",
    "Y = sp.fft(y)\n",
    "freqs = sp.fftfreq(samples, 1/sample_rate)\n",
    "\n",
    "plt.plot(freqs, np.abs(Y), '.', ls='-', lw=0.5)\n",
    "plt.xlabel('Frequency [Hz]')\n",
    "plt.ylabel('Magnitude')\n",
    "plt.title('Fourier Transform')\n",
    "plt.grid(True)\n",
    "plt.show()"
   ]
  },
  {
   "cell_type": "code",
   "execution_count": null,
   "id": "e909c55c-9ac8-4f16-8634-30424ce17c10",
   "metadata": {},
   "outputs": [],
   "source": [
    "# plot the positive half\n",
    "half = samples//2\n",
    "plt.plot(freqs[:half], np.abs(Y[:half]) * 2 / samples, '.', ls='-', lw=0.5)  # Normalize amplitude\n",
    "plt.xlabel('Frequency [Hz]')\n",
    "plt.ylabel('Magnitude')\n",
    "plt.title('Fourier Transform')\n",
    "plt.grid(True)\n",
    "plt.show()"
   ]
  },
  {
   "cell_type": "markdown",
   "id": "1798dff0-3df4-417d-938d-27cb8658ccb8",
   "metadata": {},
   "source": [
    "### A sum of sines\n",
    "\n",
    "We can also make a signal with two different frequencies in it."
   ]
  },
  {
   "cell_type": "code",
   "execution_count": null,
   "id": "66798a71-6d7c-422b-b820-0b5e928ba009",
   "metadata": {},
   "outputs": [],
   "source": [
    "# frequencies in Hz\n",
    "freq1 = ###\n",
    "freq2 = ###\n",
    "\n",
    "# duration of measurement and samples\n",
    "duration = 3\n",
    "samples = 100\n",
    "sample_rate = samples / duration\n",
    "\n",
    "x = np.linspace(0, duration, samples, endpoint=False)\n",
    "y = np.sin(2 * np.pi * freq1 * x) + np.sin(2 * np.pi * freq2 * x)\n",
    "\n",
    "plt.plot(x,y, '.', ls='-', lw=0.5)\n",
    "plt.xlabel('Time [s]')\n",
    "plt.ylabel('Amplitude')\n",
    "plt.title(f'Frequency = {round(frequency,2)} Hz')\n",
    "plt.show()"
   ]
  },
  {
   "cell_type": "code",
   "execution_count": null,
   "id": "17f854a7-be38-49fd-8e62-c9dbe9eeb2ec",
   "metadata": {},
   "outputs": [],
   "source": [
    "# fourier transform\n",
    "Y = sp.fft(y)\n",
    "freqs = sp.fftfreq(samples, 1/sample_rate)\n",
    "\n",
    "# plot the positive half\n",
    "half = samples//2\n",
    "plt.plot(freqs[:half], np.abs(Y[:half]) * 2 / samples, '.', ls='-', lw=0.5)  # Normalize amplitude\n",
    "plt.xlabel('Frequency [Hz]')\n",
    "plt.ylabel('Magnitude')\n",
    "plt.title('Fourier Transform')\n",
    "plt.grid(True)\n",
    "plt.show()"
   ]
  },
  {
   "cell_type": "markdown",
   "id": "b43fd3fc-8c58-4499-b028-63c12a589b1a",
   "metadata": {},
   "source": [
    "**Question:** What happens if we change the relative amplitude of the two sine waves?"
   ]
  },
  {
   "cell_type": "code",
   "execution_count": null,
   "id": "4da4c484-bff7-419c-9a7b-3e49ccc16910",
   "metadata": {},
   "outputs": [],
   "source": [
    "# frequencies in Hz\n",
    "freq1 = ###\n",
    "freq2 = ###\n",
    "\n",
    "# duration of measurement and samples\n",
    "duration = 3\n",
    "samples = 100\n",
    "sample_rate = samples / duration\n",
    "\n",
    "x = np.linspace(0, duration, samples, endpoint=False)\n",
    "y = np.sin(2 * np.pi * freq1 * x) + np.sin(2 * np.pi * freq2 * x)\n",
    "\n",
    "plt.plot(x,y, '.', ls='-', lw=0.5)\n",
    "plt.xlabel('Time [s]')\n",
    "plt.ylabel('Amplitude')\n",
    "plt.title(f'Frequency = {round(frequency,2)} Hz')\n",
    "plt.show()\n",
    "\n",
    "# fourier transform\n",
    "Y = sp.fft(y)\n",
    "freqs = sp.fftfreq(samples, 1/sample_rate)\n",
    "\n",
    "# plot the positive half\n",
    "half = samples//2\n",
    "plt.plot(freqs[:half], np.abs(Y[:half]) * 2 / samples, '.', ls='-', lw=0.5)  # Normalize amplitude\n",
    "plt.xlabel('Frequency [Hz]')\n",
    "plt.ylabel('Magnitude')\n",
    "plt.title('Fourier Transform')\n",
    "plt.grid(True)\n",
    "plt.show()"
   ]
  },
  {
   "cell_type": "markdown",
   "id": "d3426d0f-0b3d-465a-8c7c-c55406924d0d",
   "metadata": {},
   "source": [
    "<div style=\"background-color:rgba(252, 245, 255, 1.0); text-align:left; vertical-align: middle; padding:20px 0;border:3px; border-style:solid; padding: 0.5em; border-color: rgba(190, 111, 227, 1.0); color: #000000;\">\n",
    "\n",
    "### Challenge Problem: \n",
    "\n",
    "Explore and answer the following questions:\n",
    "* What happens if you increase or decrease the duration of sampling?\n",
    "* What happens if you increase or decrease the number of samples?\n",
    "* What can you say about the relationship between the choice of duration and choice of number of samples?\n",
    "\n",
    "<div/>"
   ]
  },
  {
   "cell_type": "code",
   "execution_count": null,
   "id": "66e349c1-b955-494d-9c7b-d15e4256be52",
   "metadata": {},
   "outputs": [],
   "source": [
    "## your code here"
   ]
  },
  {
   "cell_type": "markdown",
   "id": "c812bf31-b41b-4b62-82a2-8d5128846a8c",
   "metadata": {},
   "source": [
    "### Adding Noise\n",
    "\n",
    "In real life, we don't have perfect sine wave signals. What happens if we have \"real life data\" with noise in it?"
   ]
  },
  {
   "cell_type": "code",
   "execution_count": null,
   "id": "1ab316e2-2810-4000-b290-68b73a767a4c",
   "metadata": {},
   "outputs": [],
   "source": [
    "frequency = 10\n",
    "\n",
    "duration = 2\n",
    "samples = 500\n",
    "sample_rate = samples / duration\n",
    "\n",
    "x = np.linspace(0, duration, samples, endpoint=False)\n",
    "\n",
    "# random normal noise\n",
    "noise = ###\n",
    "\n",
    "y = np.sin(2 * np.pi * frequency * x) + noise\n",
    "\n",
    "plt.plot(x,y, '.', ls='-', lw=0.5)\n",
    "plt.xlabel('Time [s]')\n",
    "plt.ylabel('Amplitude')\n",
    "plt.title(f'Frequency = {round(frequency,2)} Hz')\n",
    "plt.show()"
   ]
  },
  {
   "cell_type": "code",
   "execution_count": null,
   "id": "63a71861-0d06-4ae0-a11b-ddb0d19c511e",
   "metadata": {},
   "outputs": [],
   "source": [
    "# fourier transform\n",
    "Y = sp.fft(y)\n",
    "freqs = sp.fftfreq(samples, 1/sample_rate)\n",
    "\n",
    "# plot the positive half\n",
    "half = samples//2\n",
    "plt.plot(freqs[:half], np.abs(Y[:half]) * 2 / samples, '.', ls='-', lw=0.5)  # Normalize amplitude\n",
    "plt.xlabel('Frequency [Hz]')\n",
    "plt.ylabel('Magnitude')\n",
    "plt.title('Fourier Transform')\n",
    "plt.grid(True)\n",
    "plt.show()"
   ]
  },
  {
   "cell_type": "markdown",
   "id": "e748397f-8942-4ccd-90cd-80e5b4cf5dd9",
   "metadata": {},
   "source": [
    "<div style=\"background-color:rgba(252, 245, 255, 1.0); text-align:left; vertical-align: middle; padding:20px 0;border:3px; border-style:solid; padding: 0.5em; border-color: rgba(190, 111, 227, 1.0); color: #000000;\">\n",
    "\n",
    "### Challenge Problem: \n",
    "\n",
    "Make a signal which is a square pulse (only non zero in a finite time $t_1 \\leq t \\leq t_2$). What does the Fourier transform of that look like? How does it change as you change the duration of the square pulse?\n",
    "\n",
    "<div/>"
   ]
  },
  {
   "cell_type": "code",
   "execution_count": null,
   "id": "64ee2c46-7aac-4a90-b6e4-25609a6d9eed",
   "metadata": {},
   "outputs": [],
   "source": [
    "## your code here"
   ]
  },
  {
   "cell_type": "markdown",
   "id": "52999cb9-54d6-4d0e-8e10-0a257f580888",
   "metadata": {},
   "source": [
    "# 2. Quantum Fourier Transform"
   ]
  },
  {
   "cell_type": "markdown",
   "id": "a1bdde84-414b-4be4-b4f9-1e11e0b27147",
   "metadata": {},
   "source": [
    "<div style=\"background-color:rgba(236, 250, 255, 1.0); text-align:left; vertical-align: middle; padding:20px 0;border:3px; border-style:solid; padding: 0.5em; border-color: rgba(35, 175, 219, 1.0); color: #000000;\">\n",
    "\n",
    "The QFT is very similar to the classical FT except that the vector that the QFT is acting on is the amplitude of bitstrings. Mathematically, for an n-bit register with $|x\\rangle = \\sum_{j=0}^{2^n-1} c_{x,j} |j\\rangle$, we have $QFT|x\\rangle = |y\\rangle= \\sum_{k=0}^{2^n-1} c_{y,k} |k\\rangle$ where:\n",
    "\n",
    "$$ c_{y,k} = \\frac{1}{2^n} \\sum_{j=0}^{2^n-1} c_{x,j} $$\n",
    "\n",
    "The action of the QFT on a basis state $|x\\rangle = |x_1 x_2 \\cdots x_n\\rangle$ with $x_j\\in\\{0,1\\}$ is:\n",
    "\n",
    "$$ QFT|x\\rangle = \\frac{1}{2^n} ( |0\\rangle + e^{2\\pi i [0.x_n]} |1\\rangle) \\otimes ( |0\\rangle + e^{2\\pi i [0.x_{n-1}x_n]} |1\\rangle) \\otimes \\cdots \\otimes ( |0\\rangle + e^{2\\pi i [0.x_1\\cdots x_n]} |1\\rangle)$$\n",
    "\n",
    "where $[0.x_1\\cdots x_m]$ is a binary fraction. Practically speaking, this means each qubit experiences a unitary which involves a Hadamard gate and then controlled phase rotations with increasingly smaller rotation angles. For $n=3$ it looks like this:\n",
    "\n",
    "<img src=\"figs/qft.jpg\" width=\"700\"/>\n",
    "\n",
    "<div/>"
   ]
  },
  {
   "cell_type": "code",
   "execution_count": null,
   "id": "8726050a-4e4d-4f34-a038-46bb16335a5b",
   "metadata": {},
   "outputs": [],
   "source": [
    "num_qubits = 3\n",
    "\n",
    "qr = QuantumRegister(num_qubits)\n",
    "qc = QuantumCircuit(qr)\n",
    "\n",
    "###\n",
    "\n",
    "qc.draw()"
   ]
  },
  {
   "cell_type": "markdown",
   "id": "a897dd83-c4bd-4e7e-b7fa-1fc865d8c54b",
   "metadata": {},
   "source": [
    "Let's turn this into a function we can use later:"
   ]
  },
  {
   "cell_type": "code",
   "execution_count": null,
   "id": "dad1a2ea-b672-4d06-82eb-e544370e192e",
   "metadata": {},
   "outputs": [],
   "source": [
    "def QFT(num_qubits):\n",
    "    qr = QuantumRegister(num_qubits)\n",
    "    qc = QuantumCircuit(qr)\n",
    "    \n",
    "    ###\n",
    "\n",
    "    return qc"
   ]
  },
  {
   "cell_type": "code",
   "execution_count": null,
   "id": "986e9b5c-856c-48b1-838d-5205e3579ed0",
   "metadata": {},
   "outputs": [],
   "source": [
    "num_qubits = 3\n",
    "qr = QuantumRegister(num_qubits)\n",
    "qc = QuantumCircuit(qr)\n",
    "\n",
    "qc.compose(QFT(num_qubits),inplace=True)\n",
    "display(qc.draw())"
   ]
  },
  {
   "cell_type": "markdown",
   "id": "b1b5ab90-908c-4615-8ac7-6af65ee46c21",
   "metadata": {},
   "source": [
    "What about the inverse QFT?"
   ]
  },
  {
   "cell_type": "code",
   "execution_count": null,
   "id": "a4cb538a-fa21-4aa2-a640-68b8b9bda5f6",
   "metadata": {},
   "outputs": [],
   "source": [
    "num_qubits = 3\n",
    "qr = QuantumRegister(num_qubits)\n",
    "qc = QuantumCircuit(qr)\n",
    "\n",
    "IQFT = ###\n",
    "\n",
    "qc.compose(IQFT,inplace=True)\n",
    "display(qc.draw())"
   ]
  },
  {
   "cell_type": "markdown",
   "id": "f9d6062f-f828-49e3-b000-3b3a0c9e8cf7",
   "metadata": {},
   "source": [
    "# 3. Quantum Phase Estimation"
   ]
  },
  {
   "cell_type": "markdown",
   "id": "e0a7bac1-0fcd-46c9-ab46-ab86b5e6054a",
   "metadata": {},
   "source": [
    "\n",
    "<div style=\"background-color:rgba(247, 255, 245, 1.0); text-align:left; vertical-align: middle; padding:20px 0;border:3px; border-style:solid; padding: 0.5em; border-color: rgba(0, 153, 51, 1.0); color: #000000;\">\n",
    "\n",
    "In the same way the classical Fourier transform can detect periodicity in a time domain signal, the QFT can detect periodicity in the amplitudes of the basis states. Recall that if $|x\\rangle = \\sum_{j=0}^{2^n-1} c_{x,j} |j\\rangle$, then $QFT|x\\rangle = |y\\rangle= \\sum_{k=0}^{2^n-1} c_{y,k} |k\\rangle$ where:\n",
    "\n",
    "$$ c_{y,k} = \\frac{1}{2^n} \\sum_{j=0}^{2^n-1} c_{x,j} $$\n",
    "\n",
    "If there is an underlying frequency/frequencies in the amplitudes $\\{ c_{x,j} \\}$, then that will be reflected in the resulting amplitudes $\\{ c_{y,k} \\}$.\n",
    "\n",
    "Choose a period $T\\in \\mathbb{Z}$. Suppose we prepare the state:\n",
    "$$|\\psi\\rangle= \\frac{1}{2^n} \\sum_{x=0}^{2^n-1} e^{2\\pi i x/T} |x\\rangle$$\n",
    "\n",
    "There is clearly periodicity in the amplitudes of $|\\psi\\rangle$. We won't work out the math here, but if you apply the IQFT to $|\\psi\\rangle$, you will with high probability measure $|x_1 x_2 \\cdots x_n \\rangle$ which satisfy $1/T \\approx [0.x_1 x_2 \\cdots x_n]$. In other words, the measurement result is an n-bit approximation of the reciprocal of the periodicity.\n",
    "\n",
    "What we have just described in usually phrased in different terms and is called Quantum Phase Estimation. In QPE, as the name implies, we want to estimate a phase $\\theta$. We can prepare the initial state:\n",
    "\n",
    "$$ QFT |\\theta\\rangle = \\frac{1}{2^n} \\sum_{x=0}^{2^n-1} e^{2\\pi i\\theta x} |x\\rangle $$\n",
    "\n",
    "Note that $|\\theta\\rangle$ is the n-bit approximation of $\\theta \\in [0,1)$. For example, in a 3-qubit register, if $\\theta = 3/4$, then $|\\theta\\rangle = |110\\rangle$, because: \n",
    "\n",
    "$$\\theta = [0.110] = 1\\cdot 2^{-1} + 1\\cdot 2^{-2} + 0\\cdot 2^{-3}$$\n",
    "\n",
    "For a number which cannot be exactly expressed in 3-bits, we just take the first three bits. For example, if $\\theta = 1/7$, then $|\\theta\\rangle = |001\\rangle$. In actuality, $0.001$ in binary is $0.125 = 1/8$.\n",
    "\n",
    "If we apply $IQFT$ to $QFT |\\theta\\rangle$, we should get $|\\theta\\rangle$, and this is exactly how QPE works. Let's see how to construct $QFT |\\theta\\rangle$.\n",
    "\n",
    "</div>"
   ]
  },
  {
   "cell_type": "markdown",
   "id": "76390e64-94bd-4479-91a8-59547a5cfe7e",
   "metadata": {},
   "source": [
    "### Building the initial state"
   ]
  },
  {
   "cell_type": "markdown",
   "id": "6c84784b-fe1e-4849-b5b7-cb7fc580cf12",
   "metadata": {},
   "source": [
    "We want to make:\n",
    "\n",
    "$$ QFT |\\theta\\rangle = \\frac{1}{2^n} \\sum_{x=0}^{2^n-1} e^{2\\pi i\\theta x} |x\\rangle $$\n",
    "\n",
    "We can start by applying a Hadamard gate to every qubit, which puts us in the equal superposition state of all bitstrings of length n: \n",
    "$$\\frac{1}{2^n} \\sum_{x=0}^{2^n-1}  |x\\rangle$$\n",
    "\n",
    "Then we want to acquire a phase $\\theta k$ on the basis state $k$. We can accomplish this by applying a controlled phase $\\theta \\cdot2^j$ on the jth qubit. This will work because we know that $k = \\sum_{j=1} ^n x_j \\cdot 2^j$, so everywhere there is a 1 in k, we want to apply the phase $\\theta \\cdot2^j$. Let's build this together. \n",
    "\n",
    "NOTE:We will need an auxillary qubit to apply our controlled phase rotations."
   ]
  },
  {
   "cell_type": "code",
   "execution_count": null,
   "id": "2778b485-cc76-4510-aa0a-ef8cb5abdf31",
   "metadata": {},
   "outputs": [],
   "source": [
    "def prep_state(num_qubits, theta):\n",
    "\n",
    "    qr = QuantumRegister(num_qubits+1)\n",
    "    qc = QuantumCircuit(qr)\n",
    "    \n",
    "    ###\n",
    "\n",
    "    return qc"
   ]
  },
  {
   "cell_type": "code",
   "execution_count": null,
   "id": "2dd3c3b9-1f40-4d80-b094-d9cfeda401ed",
   "metadata": {},
   "outputs": [],
   "source": [
    "num_qubits = 5\n",
    "theta = ###\n",
    "qr = QuantumRegister(num_qubits+1)\n",
    "cr = ClassicalRegister(num_qubits)\n",
    "qc = QuantumCircuit(qr,cr)\n",
    "\n",
    "qc.compose(prep_state(num_qubits,theta),inplace=True)\n",
    "display(qc.draw())"
   ]
  },
  {
   "cell_type": "markdown",
   "id": "de1b1c14-331e-4451-804b-c8add4f5afc0",
   "metadata": {},
   "source": [
    "We can plot the real part of the wavefunction to see the periodicity!"
   ]
  },
  {
   "cell_type": "code",
   "execution_count": null,
   "id": "6a6112bb-67fb-4991-9e39-ec623aa1de65",
   "metadata": {},
   "outputs": [],
   "source": [
    "sv = Statevector.from_instruction(qc)\n",
    "plt.plot(np.real(sv)[:int(2**num_qubits)])\n",
    "plt.axvline(1/theta, color='k')\n",
    "plt.xlabel('x')\n",
    "plt.ylabel('Real part of amplitude')\n",
    "plt.show()"
   ]
  },
  {
   "cell_type": "code",
   "execution_count": null,
   "id": "15edcd9e-690a-4b36-bd1d-44947c6f7774",
   "metadata": {},
   "outputs": [],
   "source": [
    "num_qubits = 5\n",
    "theta = 0.1\n",
    "\n",
    "binary_conversion(theta)\n",
    "\n",
    "qr = QuantumRegister(num_qubits+1)\n",
    "cr = ClassicalRegister(num_qubits)\n",
    "qc = QuantumCircuit(qr,cr)\n",
    "\n",
    "# state preparation\n",
    "\n",
    "qc.barrier()\n",
    "\n",
    "# IQFT\n",
    "\n",
    "qc.barrier()\n",
    "\n",
    "# we need to flip bit ordering to match convention\n",
    "qc.measure(qr[:-1][::-1],cr)\n",
    "qc.draw()"
   ]
  },
  {
   "cell_type": "code",
   "execution_count": null,
   "id": "50c40b55-b254-4a73-8bb3-ac7e7235464d",
   "metadata": {},
   "outputs": [],
   "source": [
    "# Transpile for Quantum Rings\n",
    "backend = QrBackendV2(provider, num_qubits=num_qubits+1)\n",
    "qc_tp = transpile(qc, backend)\n",
    "\n",
    "# Execute with toolkit sampler\n",
    "sampler = QrSamplerV1(backend=backend)\n",
    "job = sampler.run(circuits=[qc_tp])\n",
    "\n",
    "counts = job.result().quasi_dists[0]\n",
    "plot_histogram(counts)"
   ]
  },
  {
   "cell_type": "markdown",
   "id": "0d99683a-97b2-4e91-a75b-44e31f8f9afb",
   "metadata": {},
   "source": [
    "<div style=\"background-color:rgba(252, 245, 255, 1.0); text-align:left; vertical-align: middle; padding:20px 0;border:3px; border-style:solid; padding: 0.5em; border-color: rgba(190, 111, 227, 1.0); color: #000000;\">\n",
    "\n",
    "# Bonus Challenge: QPE with two phases\n",
    "\n",
    "**Step 1:** Create a state preparation circuit which prepares an equal superposition of $|\\psi_1\\rangle = \\frac{1}{\\sqrt{2^n}} \\sum_{x=0}^{2^n} e^{-2\\pi i \\theta_1 x } |x\\rangle$ and $|\\psi_2\\rangle = \\frac{1}{\\sqrt{2^n}} \\sum_{x=0}^{2^n} e^{-2\\pi i \\theta_2 x} |x\\rangle$\n",
    "\n",
    "HINT: You can use the prep_state() function we have already built. Leverage the Hadamard gate to apply prep_state(theta1) and prep_state(theta2) with equal probability.\n",
    "\n",
    "**Step 2:** Run QPE. Do you measure $\\theta_1$ and $\\theta_2$?\n",
    "\n",
    "<div/>"
   ]
  },
  {
   "cell_type": "markdown",
   "id": "15b33a00-d11e-41ce-9632-50e82ca33d2c",
   "metadata": {},
   "source": [
    "SECONDARY HINT: Just an H gate is not enough for Step 1. If you want to make a controlled unitary for an arbitrary gate, you can do this."
   ]
  },
  {
   "cell_type": "code",
   "execution_count": null,
   "id": "f8e06938-a983-4e24-b13c-b818b5a12d60",
   "metadata": {},
   "outputs": [],
   "source": [
    "def my_gate(num_qubits):\n",
    "    \n",
    "    qr = QuantumRegister(num_qubits)\n",
    "    qc = QuantumCircuit(qr)\n",
    "    \n",
    "    qc.h(0)\n",
    "    \n",
    "    qc.cx(0,1)\n",
    "\n",
    "    return qc"
   ]
  },
  {
   "cell_type": "code",
   "execution_count": null,
   "id": "dfb172f9-233b-4911-85ad-b7a81424c2a2",
   "metadata": {},
   "outputs": [],
   "source": [
    "num_qubits = 4\n",
    "qr = QuantumRegister(num_qubits)\n",
    "qc = QuantumCircuit(qr)\n",
    "qc.compose(my_gate(num_qubits),inplace=True)\n",
    "\n",
    "# the argument of control is the number of controls for the gate\n",
    "custom_controlled_gate = qc.to_gate().control(num_ctrl_qubits=1)\n",
    "\n",
    "# use our custom gate\n",
    "qr = QuantumRegister(num_qubits+1)\n",
    "qc = QuantumCircuit(qr)\n",
    "# first num_ctrl_qubits qubits will be the controls\n",
    "qc.append(custom_controlled_gate, [4,0,1,2,3])\n",
    "qc.draw()"
   ]
  },
  {
   "cell_type": "code",
   "execution_count": null,
   "id": "e7c77dab-50a0-4be3-8969-7c24bf161595",
   "metadata": {},
   "outputs": [],
   "source": []
  }
 ],
 "metadata": {
  "kernelspec": {
   "display_name": "Python 3 QuantumRings",
   "language": "python",
   "name": "python3_quantu_8bt6c1"
  },
  "language_info": {
   "codemirror_mode": {
    "name": "ipython",
    "version": 3
   },
   "file_extension": ".py",
   "mimetype": "text/x-python",
   "name": "python",
   "nbconvert_exporter": "python",
   "pygments_lexer": "ipython3",
   "version": "3.11.9"
  }
 },
 "nbformat": 4,
 "nbformat_minor": 5
}
