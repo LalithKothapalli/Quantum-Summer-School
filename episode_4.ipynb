{
 "cells": [
  {
   "cell_type": "markdown",
   "id": "0b145155-4321-4c23-bae9-07a1f919dc57",
   "metadata": {},
   "source": [
    "<div style=\"background-color:rgba(78, 188, 130, 0.05); text-align:center; vertical-align: middle; padding:20px 0;border:3px; border-style:solid; padding: 0.5em; border-color: rgba(78, 188, 130, 1.0); color: #000000;\">\n",
    "\n",
    "<img src=\"figs/qr_logo.png\" width=\"700\"/>\n",
    "\n",
    "<h1><strong>Quantum Summer School</strong></h1>\n",
    "\n",
    "<h2><strong>Episode 4</strong></h2>\n",
    "\n",
    "<h3><strong>Circuit Composition & Control Flow</strong></h3>\n",
    "\n",
    "</div>"
   ]
  },
  {
   "cell_type": "markdown",
   "id": "ddae8b51-ecd2-45e4-bd34-ed23ce60bb73",
   "metadata": {},
   "source": [
    "*In this session, we’ll explore gate decomposition, simplification, composition, and quantum control flow.*"
   ]
  },
  {
   "cell_type": "markdown",
   "id": "8c5639e9-6fa3-4329-9957-f6ae5dd5c4b1",
   "metadata": {
    "jp-MarkdownHeadingCollapsed": true
   },
   "source": [
    "<div style=\"background-color:rgba(255, 248, 240, 1.0); text-align:left; vertical-align: middle; padding:20px 0;border:3px; border-style:solid; padding: 0.5em; border-color: rgba(255, 142, 0, 1.0); color: #000000;\">\n",
    "\n",
    "## Objectives\n",
    "1. Understand what a univeral gate set is and how we approach decomposing quantum gates.\n",
    "2. Implement the entanglement swapping protocol.\n",
    "\n",
    "<div/>"
   ]
  },
  {
   "cell_type": "markdown",
   "id": "96ddba20",
   "metadata": {},
   "source": [
    "## Setup & Imports"
   ]
  },
  {
   "cell_type": "code",
   "execution_count": null,
   "id": "3c3ae3d5",
   "metadata": {},
   "outputs": [],
   "source": [
    "from QuantumRingsLib import QuantumRingsProvider, QuantumRegister, ClassicalRegister, QuantumCircuit, job_monitor\n",
    "# import qiskit versions of QuantumCircuit, QuantumRegister, ClassicalRegister so we can draw statevectors in latex\n",
    "from qiskit import QuantumCircuit as qkQuantumCircuit\n",
    "from qiskit import QuantumRegister as qkQuantumRegister\n",
    "from qiskit import ClassicalRegister as qkClassicalRegister\n",
    "from qiskit.visualization import plot_histogram\n",
    "from qiskit.quantum_info import Statevector\n",
    "import matplotlib.pyplot as plt\n",
    "import warnings\n",
    "warnings.filterwarnings('ignore')\n",
    "import numpy as np\n",
    "from jupyterquiz import display_quiz\n",
    "\n",
    "provider = QuantumRingsProvider()\n",
    "backend = provider.get_backend('scarlet_quantum_rings')"
   ]
  },
  {
   "cell_type": "markdown",
   "id": "ffdde39f-6d8b-4a9f-988d-1d922dc89d8e",
   "metadata": {},
   "source": [
    "## Helper Functions"
   ]
  },
  {
   "cell_type": "markdown",
   "id": "15e123e6-a93b-4434-aad4-da3d12475752",
   "metadata": {},
   "source": [
    "Bit List: return a list of all bit strings of length num_bits"
   ]
  },
  {
   "cell_type": "code",
   "execution_count": null,
   "id": "0a27013c-cb65-4003-af7a-d02dd8248f46",
   "metadata": {},
   "outputs": [],
   "source": [
    "def bit_list(num_bits):\n",
    "    bit_strings = [bin(bit)[2:].zfill(num_bits) for bit in range(2**num_bits)]\n",
    "    bit_lists = []\n",
    "    for string in bit_strings:\n",
    "        bit_lists.append([int(bit) for bit in string])\n",
    "    return  bit_strings, bit_lists"
   ]
  },
  {
   "cell_type": "markdown",
   "id": "0a99dbf8-2b81-4d5b-b354-22dfe402fb63",
   "metadata": {},
   "source": [
    "Trimmed Counts: provide a counts dictionary (from the output of running a circuit in qiskit or quantum rings) and the bits which you want to keep, and it returns a new counts dictionary only including those bits."
   ]
  },
  {
   "cell_type": "code",
   "execution_count": null,
   "id": "ee2d5c9a-9abc-4bba-b8ea-f2416903a553",
   "metadata": {},
   "outputs": [],
   "source": [
    "def trimmed_counts(counts, keep_bits, reverse_bit_order=True):\n",
    "\n",
    "    if len(keep_bits) < 1:\n",
    "        raise ValueError('You need to keep at least one bit.')\n",
    "        \n",
    "    # default in qiskit / quantum rings is reversed bit order\n",
    "    if reverse_bit_order:\n",
    "        length = 1\n",
    "        for key in counts.keys():\n",
    "            length = max(length, len(key))\n",
    "        keep_bits = [length-1 - bit for bit in keep_bits]\n",
    "\n",
    "    new_counts = {}\n",
    "    for key, val in counts.items():\n",
    "        new_key = ''\n",
    "        for bit in keep_bits:\n",
    "            new_key += key[bit]\n",
    "        if new_key not in new_counts.keys():\n",
    "            new_counts[new_key] = 0\n",
    "        new_counts[new_key] += val\n",
    "\n",
    "    return new_counts"
   ]
  },
  {
   "cell_type": "markdown",
   "id": "a625da45-7696-49c3-b03c-73194be71f73",
   "metadata": {},
   "source": [
    "## 1. Classical and Quantum Logic"
   ]
  },
  {
   "cell_type": "markdown",
   "id": "3a8d3e80-d832-466e-8641-a573518f5a76",
   "metadata": {},
   "source": [
    "<div style=\"background-color:rgba(243, 248, 255, 1.0); text-align:left; vertical-align: middle; padding:20px 0;border:3px; border-style:solid; padding: 0.5em; border-color: rgba(101, 174, 247, 1.0); color: #000000;\">\n",
    "\n",
    "Classical and quantum logic are really different from each other, and this is important to keep in mind as we are learning about quantum computation! In classical logic, there are only two possible outcomes: 0 or 1. In quantum logic, the only possible *measurement outcomes* are 0 and 1, but there is a richness not captured by boolean logic. \n",
    "\n",
    "We already started making some small quantum circuits to get a feel for quantum logic, but for completeness, let's discuss classical logic too. We will also play around with the NAND gate, a universal gate.\n",
    "\n",
    "</div>"
   ]
  },
  {
   "cell_type": "code",
   "execution_count": null,
   "id": "89a3ca24-3e01-493e-99bd-aa46ec6ca593",
   "metadata": {},
   "outputs": [],
   "source": [
    "# classical logic in python\n",
    "\n",
    "b1 = 0\n",
    "b2 = 0\n",
    "\n",
    "## logic here"
   ]
  },
  {
   "cell_type": "code",
   "execution_count": null,
   "id": "b5e7a39f-1eb3-402c-a15b-1b537e11dacf",
   "metadata": {},
   "outputs": [],
   "source": [
    "# Arbitrary logic operation\n",
    "\n",
    "bit_strings, bit_lists = bit_list(3)\n",
    "print(bit_strings) # strings of 0s/1s\n",
    "print(bit_lists) # list of 0s/1s\n",
    "\n",
    "def logic_operation(bits):\n",
    "    # defaults to True/False, use int() to output 1/0\n",
    "    return ## logic here\n",
    "\n",
    "for i, bit_string in enumerate(bit_strings):\n",
    "    print(f'{bit_string}: \\t {logic_operation(bit_lists[i])}')"
   ]
  },
  {
   "cell_type": "code",
   "execution_count": null,
   "id": "d2502c80-438d-4f4a-83b7-69be2cb0a084",
   "metadata": {},
   "outputs": [],
   "source": [
    "# Example: the NAND gate (a universal gate!)\n",
    "\n",
    "bit_strings, bit_lists = bit_list(2)\n",
    "\n",
    "def nand(bit0, bit1):\n",
    "    return ## logic here\n",
    "\n",
    "for i, bit_string in enumerate(bit_strings):\n",
    "    print(f'{bit_string}: \\t {### NAND Gate}')"
   ]
  },
  {
   "cell_type": "code",
   "execution_count": null,
   "id": "6a1b5392-6cc4-4f8b-b473-21768e0385cd",
   "metadata": {},
   "outputs": [],
   "source": [
    "# Example: decomposing the NOT gate in terms of NAND gates\n",
    "\n",
    "bit_strings, bit_lists = bit_list(1)\n",
    "\n",
    "for i, bit_string in enumerate(bit_strings):\n",
    "    print(f'{bit_string}: \\t {### NOT gate}')"
   ]
  },
  {
   "cell_type": "markdown",
   "id": "607ff9fe-760a-4ea3-9938-d2b9c65f9326",
   "metadata": {},
   "source": [
    "<div style=\"background-color:rgba(252, 245, 255, 1.0); text-align:left; vertical-align: middle; padding:20px 0;border:3px; border-style:solid; padding: 0.5em; border-color: rgba(190, 111, 227, 1.0); color: #000000;\">\n",
    "\n",
    "### Challenge Problem: \n",
    "\n",
    "We defined a function for the NAND gate and showed how to decompose NOT, AND, and OR in terms of NAND gates. Try implementing those decompositions. Can you decompose the NOR gate? The XOR gate?\n",
    "\n",
    "<div/>"
   ]
  },
  {
   "cell_type": "markdown",
   "id": "9400cfed",
   "metadata": {},
   "source": [
    "### Arbitrary Controlled Rotation Gates"
   ]
  },
  {
   "cell_type": "code",
   "execution_count": null,
   "id": "de7c644e",
   "metadata": {},
   "outputs": [],
   "source": [
    "qc = QuantumCircuit(2, name='QSS4.1_controlled_rz')\n",
    "# qc.x(0)\n",
    "# qc.h(1)\n",
    "qc.crz(np.pi/2, 0, 1)\n",
    "# qc.h(1)\n",
    "qc.measure(0)\n",
    "qc.draw('mpl')"
   ]
  },
  {
   "cell_type": "code",
   "execution_count": null,
   "id": "51479808-ae4c-4170-8eb6-56c038ca9b37",
   "metadata": {},
   "outputs": [],
   "source": [
    "job = backend.run(qc, shots=1024)\n",
    "job_monitor(job)\n",
    "result = job.result()\n",
    "counts = result.get_counts()\n",
    "counts = trimmed_counts(counts, keep_bits=[0])\n",
    "plot_histogram(counts)"
   ]
  },
  {
   "cell_type": "markdown",
   "id": "7f04c80f",
   "metadata": {},
   "source": [
    "### Adaptive Circuits with Mid-Circuit Measurement"
   ]
  },
  {
   "cell_type": "code",
   "execution_count": null,
   "id": "a969f97a",
   "metadata": {},
   "outputs": [],
   "source": [
    "# Quantum Teleportation circuit\n",
    "qc = QuantumCircuit(3, 3, name='QSS4.2_teleportation')\n",
    "qc.h(1)\n",
    "qc.cx(1, 2)\n",
    "qc.cx(0, 1)\n",
    "qc.h(0)\n",
    "qc.measure([0,1], [0,1])\n",
    "qc.x(2).c_if(qc.clbits[1], 1)\n",
    "qc.z(2).c_if(qc.clbits[0], 1)\n",
    "qc.measure(2,2)\n",
    "qc.draw('mpl')"
   ]
  },
  {
   "cell_type": "code",
   "execution_count": null,
   "id": "217802a2-2a5c-4e75-a39d-ffe28f9febb2",
   "metadata": {},
   "outputs": [],
   "source": [
    "job = backend.run(qc, shots=1024)\n",
    "job_monitor(job)\n",
    "result = job.result()\n",
    "counts = result.get_counts()\n",
    "plot_histogram(counts)"
   ]
  },
  {
   "cell_type": "markdown",
   "id": "61d9db5e",
   "metadata": {},
   "source": [
    "### Check your understanding: Classical and Quantum Logic"
   ]
  },
  {
   "cell_type": "markdown",
   "id": "f8ca90fd-c90c-4995-901c-1f9d4aca0708",
   "metadata": {},
   "source": [
    "<div class=\"sec1_ques1\" style=\"display:none\">\n",
    "[\n",
    "  {\n",
    "    \"question\": \"What is the quantum analogue of the NOT gate?\",\n",
    "    \"type\": \"multiple_choice\",\n",
    "    \"answers\": [\n",
    "      {\"answer\":\"X\",\"correct\":true,  \"feedback\":\"✅ The X gate is our bit flip gate.\"},\n",
    "      {\"answer\":\"Z\",\"correct\":false, \"feedback\":\"❌\"},\n",
    "        {\"answer\":\"H\",\"correct\":false, \"feedback\":\"❌\"},\n",
    "    {\"answer\":\"CNOT\",\"correct\":false, \"feedback\":\"❌\"}\n",
    "    ]\n",
    "  }   \n",
    "]\n",
    "</div>\n",
    "\n",
    "<div class=\"sec1_ques2\" style=\"display:none\">\n",
    "[\n",
    "  {\n",
    "    \"question\": \"Are classical gates reversible?\",\n",
    "    \"type\": \"multiple_choice\",\n",
    "    \"answers\": [\n",
    "      {\"answer\":\"No\",\"correct\":true,  \"feedback\":\"✅ Most classical logic takes in more than one bit and outputs one bit, so it cannot be reversible\"},\n",
    "      {\"answer\":\"Yes\",\"correct\":false, \"feedback\":\"❌\"}\n",
    "    ]\n",
    "  }   \n",
    "]\n",
    "</div>\n",
    "\n",
    "<div class=\"sec1_ques3\" style=\"display:none\">\n",
    "[\n",
    "  {\n",
    "    \"question\": \"Why are quantum gates reversible?\",\n",
    "    \"type\": \"multiple_choice\",\n",
    "    \"answers\": [\n",
    "      {\"answer\":\"Quantum gates are unitary operations\",\"correct\":true,  \"feedback\":\"✅ All quantum mechanical objects (like qubits) evolve under unitary operations, which are inherently reversible, i.e. quantum gates are reversible by the laws of physics!\"},\n",
    "      {\"answer\":\"Trick question: quantum gates are not reversible!\",\"correct\":false, \"feedback\":\"❌\"},\n",
    "    {\"answer\":\"When we apply a quantum state, we don't collapse our qubit state.\",\"correct\":false, \"feedback\":\"❌ This is a true statement, but not the full answer.\"},\n",
    "    {\"answer\":\"Quantum gates don't change the number of qubits remaining in the computation.\",\"correct\":false, \"feedback\":\"❌ This is a true statement, but not the full answer.\"}\n",
    "    ]\n",
    "  }   \n",
    "]\n",
    "</div>\n",
    "\n",
    "<div class=\"sec1_ques4\" style=\"display:none\">\n",
    "[\n",
    "  {\n",
    "    \"question\": \"I apply a quantum gate A. What should I do to reverse A?\",\n",
    "    \"type\": \"multiple_choice\",\n",
    "    \"answers\": [\n",
    "      {\"answer\":\"Apply A dagger (Hermitian conjugate)\",\"correct\":true,  \"feedback\":\"✅ A quantum gate is unitary and the Hermitian conjugate of a unitary matrix is its inverse, i.e. applying Adagger * A is the same as applying the identity matrix\"},\n",
    "      {\"answer\":\"Apply A again\",\"correct\":false, \"feedback\":\"❌\"},\n",
    "    {\"answer\":\"You can't necessarily reverse A\",\"correct\":false, \"feedback\":\"❌\"},\n",
    "    {\"answer\":\"Apply X and then A\",\"correct\":false, \"feedback\":\"❌\"}\n",
    "    ]\n",
    "  }   \n",
    "]\n",
    "</div>"
   ]
  },
  {
   "cell_type": "code",
   "execution_count": null,
   "id": "4ac19d3f",
   "metadata": {},
   "outputs": [],
   "source": [
    "display_quiz(\"#sec1_ques1\")\n",
    "display_quiz(\"#sec1_ques2\")\n",
    "display_quiz(\"#sec1_ques3\")\n",
    "display_quiz(\"#sec1_ques4\")"
   ]
  },
  {
   "cell_type": "markdown",
   "id": "c9fc9a2a-feef-4207-b6bb-75a49d253c82",
   "metadata": {},
   "source": [
    "# 2. Gate Decomposition"
   ]
  },
  {
   "cell_type": "markdown",
   "id": "7e6a5a14-4e16-4b25-b906-d068115ec37c",
   "metadata": {},
   "source": [
    "<div style=\"background-color:rgba(255, 245, 253, 1.0); text-align:left; vertical-align: middle; padding:20px 0;border:3px; border-style:solid; padding: 0.5em; border-color: rgba(255, 142, 235, 1.0); color: #000000;\">\n",
    "\n",
    "The general idea behind decomposing complex gates into gates in a universal gate set is to leverage the unitarity of gates. Recall that all quantum gates are unitary, which means if I have a quantum gate $U$, then:\n",
    "$$ U^\\dagger U = U U^\\dagger = \\mathbb{1}$$\n",
    "\n",
    "Another useful tool is the CNOT gate. If the control qubit in the CNOT gate is in the $|0\\rangle$ state, then nothing happens. If the control qubit in the CNOT gate is in the $|1\\rangle$ state, then the target qubit gets an X gate applied to it (bit flip). \n",
    "\n",
    "The general idea behind gate decomposition is to apply both a gate and its inverse, so that they cancel each other out. BUT put a CNOT gate in between them such that under certain conditions (i.e. the control qubit being 1), the gate and its inverse no longer cancel each other out. We saw above that $HXH = Z$, so if we want to make a CPHASE gate (controlled-Z gate), we could do:\n",
    "$$ (\\mathbb{1} \\otimes H ) ~\\text{CNOT}~ (\\mathbb{1} \\otimes H ) $$\n",
    "where $\\mathbb{1} \\otimes H$ indicates identity applied to the first qubit and Hadamard applied to the second. Then, when the first qubit is in the $|0\\rangle$ state, nothing happens, since $HH=\\mathbb{1}$, but when the first qubit is in the $|1\\rangle$ state, the second qubit experiences $HXH=Z$. Hence, we have a CPHASE gate. Below, we outline two examples: the SWAP gate and the Toffoli gate.\n",
    "\n",
    "<div/>"
   ]
  },
  {
   "cell_type": "markdown",
   "id": "8bf5fd6d-1704-47f3-879c-9bfd3f22a417",
   "metadata": {},
   "source": [
    "### SWAP Gate"
   ]
  },
  {
   "cell_type": "code",
   "execution_count": null,
   "id": "7aca391f-a0e5-4ed9-a6c2-b3e1d4b58439",
   "metadata": {},
   "outputs": [],
   "source": [
    "qc = QuantumCircuit(2)\n",
    "#\n",
    "#\n",
    "qc.measure_all()\n",
    "qc.draw()\n",
    "\n",
    "job = backend.run(qc, shots=1024)\n",
    "job_monitor(job)\n",
    "result = job.result()\n",
    "counts = result.get_counts()\n",
    "plot_histogram(counts)"
   ]
  },
  {
   "cell_type": "code",
   "execution_count": null,
   "id": "443e5821-0862-49ab-8ac1-e4a66729d742",
   "metadata": {},
   "outputs": [],
   "source": [
    "qc = QuantumCircuit(2)\n",
    "#\n",
    "# decomposed SWAP\n",
    "qc.measure_all()\n",
    "qc.draw()\n",
    "\n",
    "job = backend.run(qc, shots=1024)\n",
    "job_monitor(job)\n",
    "result = job.result()\n",
    "counts = result.get_counts()\n",
    "plot_histogram(counts)"
   ]
  },
  {
   "cell_type": "markdown",
   "id": "59666868-8fdc-4363-99dc-2d37ead743be",
   "metadata": {},
   "source": [
    "### Toffoli Gate -- Sleator-Weinfurter Decomposition example"
   ]
  },
  {
   "cell_type": "code",
   "execution_count": null,
   "id": "436adb76-79dd-4021-bee2-6304626d20a0",
   "metadata": {},
   "outputs": [],
   "source": [
    "qc = qkQuantumCircuit(3)\n",
    "qc.csx(1,0)\n",
    "qc.cx(2,1)\n",
    "qc.csx(1,0).inverse()\n",
    "qc.cx(2,1)\n",
    "qc.csx(2,0)\n",
    "qc.draw(reverse_bits=True)"
   ]
  },
  {
   "cell_type": "code",
   "execution_count": null,
   "id": "d2dd2873-f3c2-4414-b1b7-54cf813410bf",
   "metadata": {},
   "outputs": [],
   "source": [
    "basis_states, _ = bit_list(3)"
   ]
  },
  {
   "cell_type": "code",
   "execution_count": null,
   "id": "13447582-076c-46b3-8ef2-b72d97860ea3",
   "metadata": {},
   "outputs": [],
   "source": [
    "def decomposed_toffoli(qc):\n",
    "    qc.csx(1,0)\n",
    "    qc.cx(2,1)\n",
    "    qc.csx(1,0).inverse()\n",
    "    qc.cx(2,1)\n",
    "    qc.csx(2,0)"
   ]
  },
  {
   "cell_type": "code",
   "execution_count": null,
   "id": "c7ea4be6-c9e0-40ec-8059-6546ee398cc3",
   "metadata": {},
   "outputs": [],
   "source": [
    "# example:\n",
    "\n",
    "state = '011'\n",
    "\n",
    "qc = qkQuantumCircuit(3)\n",
    "for i in range(3):\n",
    "    if state[2-i] == '1':\n",
    "        qc.x(i)\n",
    "sv_in = Statevector(qc)\n",
    "\n",
    "decomposed_toffoli(qc)\n",
    "sv = Statevector(qc)\n",
    "\n",
    "display(sv_in.draw('latex'))\n",
    "display(sv.draw('latex'))"
   ]
  },
  {
   "cell_type": "code",
   "execution_count": null,
   "id": "c418e8d0-987a-45e5-8852-0945e9231e28",
   "metadata": {},
   "outputs": [],
   "source": [
    "output_states = []\n",
    "\n",
    "for state in basis_states:\n",
    "    qc = qkQuantumCircuit(3)\n",
    "    for i in range(3):\n",
    "        if state[2-i] == '1':\n",
    "            qc.x(i)\n",
    "    \n",
    "    sv_in = Statevector(qc)\n",
    "    \n",
    "    # Toffoli\n",
    "\n",
    "    sv = Statevector(qc)\n",
    "    print(f\"In: \\t {sv_in.draw('latex').data[4:7]}\")\n",
    "    print(f\"Out: \\t {sv.draw('latex').data[4:7]} \\n\")"
   ]
  },
  {
   "cell_type": "markdown",
   "id": "6ed78344-8d39-433d-adfd-7a1e1e1bc6c0",
   "metadata": {},
   "source": [
    "<div style=\"background-color:rgba(252, 245, 255, 1.0); text-align:left; vertical-align: middle; padding:20px 0;border:3px; border-style:solid; padding: 0.5em; border-color: rgba(190, 111, 227, 1.0); color: #000000;\">\n",
    "\n",
    "### Challenge Problem: \n",
    "\n",
    "Use the Sleator-Weinfurter decomposition technique to make a CCS gate (S gate with two controls). Hint: what gate squared is equal to S?\n",
    "\n",
    "<div/>"
   ]
  },
  {
   "cell_type": "code",
   "execution_count": null,
   "id": "e31be226-6c6d-4dc2-b2d6-ecfee803aa6c",
   "metadata": {},
   "outputs": [],
   "source": [
    "## your code here"
   ]
  },
  {
   "cell_type": "markdown",
   "id": "c5e519c0-0af5-44cd-ac5e-c3bd74818397",
   "metadata": {},
   "source": [
    "# Entanglement Swapping"
   ]
  },
  {
   "cell_type": "markdown",
   "id": "df1d8f50-84c2-4960-bd34-432ef11cc0c8",
   "metadata": {},
   "source": [
    "<div style=\"background-color:rgba(247, 255, 245, 1.0); text-align:left; vertical-align: middle; padding:20px 0;border:3px; border-style:solid; padding: 0.5em; border-color: rgba(0, 153, 51, 1.0); color: #000000;\">\n",
    "\n",
    "We know that Alice and Bob can entangle a qubit if they apply a Hadamard gate and a CNOT. This requires Alice and Bob to interact directly, because CNOT is a two-qubit gate. What if Alice and Bob want to entangle a pair of qubit *without ever interacting directly with each other?* Then they can accomplish this by doing entanglement swapping.\n",
    "\n",
    "Alice and Bob each start with their own pair of entangled qubits, each in the state $|\\Phi^+\\rangle$. The total state of the system is:\n",
    "\n",
    "\\begin{align}\n",
    "|S\\rangle &=|\\Phi^+\\rangle_A\\otimes |\\Phi^+\\rangle_B \\\\\n",
    "&=  \\frac{1}{2} ( |00\\rangle_A + |11\\rangle_A )\\otimes ( |00\\rangle_B + |11\\rangle_B ) \\\\\n",
    "&=  \\frac{1}{2} ( |00\\rangle_A|00\\rangle_B + |00\\rangle_A|11\\rangle_B + |11\\rangle_A|00\\rangle_B+ |11\\rangle_A|11\\rangle_B ) \n",
    "\\end{align}\n",
    "\n",
    "They each send half of their pair to a third party, let's call them Charlie. Now Charlie has two qubits and Alice and Bob each have one. We can describe the system as:\n",
    "\n",
    "\\begin{align}\n",
    "|S\\rangle &=  \\frac{1}{2} ( |0\\rangle_A|0\\rangle_B |00\\rangle_C + |0\\rangle_A|1\\rangle_B|01\\rangle_C + |1\\rangle_A|0\\rangle_B |10\\rangle_C + |1\\rangle_A|1\\rangle_B |11\\rangle_C ) \n",
    "\\end{align}\n",
    "\n",
    "Recall that the four Bell states form a complete orthonormal basis for all two qubit states! So we can rexpress Charlie's states in the Bell basis.\n",
    "</div>\n",
    "$$ $$\n",
    "\n",
    "**MATH RECAP:**\n",
    "The four Bell states are:\n",
    "$$|\\Phi^+\\rangle =  \\frac{1}{\\sqrt{2}} ( |00\\rangle + |11\\rangle )$$\n",
    "$$|\\Phi^-\\rangle =  \\frac{1}{\\sqrt{2}} ( |00\\rangle - |11\\rangle )$$\n",
    "$$|\\Psi^+\\rangle =  \\frac{1}{\\sqrt{2}} ( |01\\rangle + |10\\rangle )$$\n",
    "$$|\\Psi^-\\rangle =  \\frac{1}{\\sqrt{2}} ( |01\\rangle - |10\\rangle )$$\n",
    "\n",
    "We can express the standard basis ($|00\\rangle, |01\\rangle, |10\\rangle, |11\\rangle$) in terms of the Bell basis as:\n",
    "$$|00\\rangle = \\frac{1}{\\sqrt{2}} (|\\Phi^+\\rangle + |\\Phi^-\\rangle) $$\n",
    "$$|01\\rangle = \\frac{1}{\\sqrt{2}} (|\\Psi^+\\rangle + |\\Psi^-\\rangle) $$\n",
    "$$|10\\rangle = \\frac{1}{\\sqrt{2}} (|\\Psi^+\\rangle - |\\Psi^-\\rangle) $$\n",
    "$$|11\\rangle = \\frac{1}{\\sqrt{2}} (|\\Phi^+\\rangle - |\\Phi^-\\rangle) $$\n",
    "$$ $$\n",
    "\n",
    "<div style=\"background-color:rgba(247, 255, 245, 1.0); text-align:left; vertical-align: middle; padding:20px 0;border:3px; border-style:solid; padding: 0.5em; border-color: rgba(0, 153, 51, 1.0); color: #000000;\">\n",
    "\n",
    "When we rexpress Charlie's states in the Bell basis, we get:\n",
    "\n",
    "\\begin{align}\n",
    "|S\\rangle &=  \\frac{1}{2\\sqrt{2}} ( |0\\rangle_A|0\\rangle_B (|\\Phi^+\\rangle_C + |\\Phi^-\\rangle_C) + |0\\rangle_A|1\\rangle_B (|\\Psi^+\\rangle_C + |\\Psi^-\\rangle_C)\\\\\n",
    "&~~~~~~~~~~~~ + |1\\rangle_A|0\\rangle_B (|\\Psi^+\\rangle_C - |\\Psi^-\\rangle_C)  + |1\\rangle_A|1\\rangle_B (|\\Phi^+\\rangle_C - |\\Phi^-\\rangle_C) )  \\\\\n",
    "&=  \\frac{1}{2\\sqrt{2}} \\bigg[ (|0\\rangle_A|0\\rangle_B + |1\\rangle_A|1\\rangle_B )|\\Phi^+\\rangle_C \\\\\n",
    "&~~~~~~~~~~~~ + (|0\\rangle_A|0\\rangle_B - |1\\rangle_A|1\\rangle_B )|\\Phi^-\\rangle_C  \\\\\n",
    "&~~~~~~~~~~~~ + (|0\\rangle_A|1\\rangle_B + |1\\rangle_A|0\\rangle_B )|\\Psi^+\\rangle_C  \\\\\n",
    "&~~~~~~~~~~~~ + (|0\\rangle_A|1\\rangle_B - |1\\rangle_A|0\\rangle_B )|\\Psi^-\\rangle_C \\bigg] \\\\\n",
    "\\end{align}\n",
    "\n",
    "\n",
    "\n",
    "Charlie performs a Bell state measurement, which collapses Alice and Bob's state as well. The state which Alice and Bob have at the end is necessarily entangled, but they can manipulate it to get it to the $|\\Phi^+\\rangle$ state. If Charlie measured odd parity ($|\\Psi^\\pm\\rangle$), then Bob should apply an X gate. If Charlie measured a phase of -1 ($|\\Phi^-\\rangle$ or $|\\Psi^-\\rangle$), then Alice should apply a Z gate.\n",
    "\n",
    "Alice and Bob never interacted directly... they only communicated with Charlie, and yet they end with an entangled pair! Let's implement this below.\n",
    "\n",
    "</div>"
   ]
  },
  {
   "cell_type": "code",
   "execution_count": null,
   "id": "627c01ee-60a4-4964-98e5-b068db251045",
   "metadata": {},
   "outputs": [],
   "source": [
    "qc = QuantumCircuit(4, 4, name='QSS4.3_entanglement_swap')\n",
    "\n",
    "# Alice's initial pair is q0 and q1\n",
    "# Bob's initial pair is q2 and q3\n",
    "# Alice sends q1 to Charlie and Bob sends q2 to Charlie\n",
    "# The final entangled pair should be q0 and q3\n",
    "\n",
    "# Alice entangles her pair\n",
    "\n",
    "# Bob entangles his pair\n",
    "\n",
    "# Alice and Bob send q1 and q2 to Charlie\n",
    "\n",
    "# Charlie measures in the Bell basis\n",
    "\n",
    "# Alice and Bob apply gates conditional on Charlie's result\n",
    "\n",
    "qc.measure([0,3],[2,3])\n",
    "qc.draw()"
   ]
  },
  {
   "cell_type": "code",
   "execution_count": null,
   "id": "fc99bc07-688e-4de8-a62d-d8c03831bcd3",
   "metadata": {},
   "outputs": [],
   "source": [
    "job = backend.run(qc, shots=1024)\n",
    "job_monitor(job)\n",
    "result = job.result()\n",
    "counts = result.get_counts()\n",
    "counts = trimmed_counts(counts, keep_bits=[2,3])\n",
    "plot_histogram(counts)"
   ]
  },
  {
   "cell_type": "code",
   "execution_count": null,
   "id": "43d52f59-0ea3-4245-8a5f-32632cadef62",
   "metadata": {},
   "outputs": [],
   "source": [
    "# Reusable Module\n",
    "\n",
    "def entanglement_swap(qc, pair_a=[0,1], pair_b=[2,3], cbits_c=[0,1], \n",
    "                      pair_a_entangled=False, pair_b_entangled=False):\n",
    "\n",
    "    # Charlie will receive pair_a[1] and pair_b[0]\n",
    "    # Alice will be left with pair_a[0] and Bob will be left with pair_b[1]\n",
    "\n",
    "    # Optional: if pair_a or pair_b is already enangled, \n",
    "    # flag that so we skip the entangling portion of the protocol\n",
    "\n",
    "    pair_c = [pair_a[1], pair_b[0]]\n",
    "\n",
    "    if not pair_a_entangled: \n",
    "        # Alice entangles her pair\n",
    "        qc.h(pair_a[0])\n",
    "        qc.cx(pair_a[0], pair_a[1])\n",
    "\n",
    "    if not pair_b_entangled: \n",
    "        # Bob entangles his pair\n",
    "        qc.h(pair_b[0])\n",
    "        qc.cx(pair_b[0], pair_b[1])\n",
    "    \n",
    "    # Alice and Bob send half of their pairs to Charlie\n",
    "    \n",
    "    # Charlie measures in the Bell basis\n",
    "    qc.cx(pair_c[0], pair_c[1])\n",
    "    qc.h(pair_c[0])\n",
    "    qc.measure([pair_c[0], pair_c[1]], [cbits_c[0],cbits_c[1]])\n",
    "    \n",
    "    # Alice and Bob apply gates conditional on Charlie's result\n",
    "    qc.z(pair_a[0]).c_if(qc.clbits[cbits_c[0]], 1)\n",
    "    qc.x(pair_b[1]).c_if(qc.clbits[cbits_c[1]], 1)"
   ]
  },
  {
   "cell_type": "markdown",
   "id": "eb0e5534-9fe8-4319-8d0f-a6b029d99385",
   "metadata": {},
   "source": [
    "**Question:** Can you build a quantum repeater using our reusable module?"
   ]
  },
  {
   "cell_type": "code",
   "execution_count": null,
   "id": "2045a514-4072-4669-8aff-fa1b25a43e32",
   "metadata": {},
   "outputs": [],
   "source": [
    "qc = QuantumCircuit(6, 6, name='QSS4.4_quantum_repeater')\n",
    "\n",
    "##"
   ]
  },
  {
   "cell_type": "code",
   "execution_count": null,
   "id": "99ff9db1-22de-478c-81f3-e3d8ec4731d5",
   "metadata": {},
   "outputs": [],
   "source": [
    "job = backend.run(qc, shots=1024)\n",
    "job_monitor(job)\n",
    "result = job.result()\n",
    "counts = result.get_counts()\n",
    "counts = trimmed_counts(counts, keep_bits=[4,5])\n",
    "plot_histogram(counts)"
   ]
  },
  {
   "cell_type": "markdown",
   "id": "271178db-2b9b-4383-ad39-90937c1a9b8c",
   "metadata": {},
   "source": [
    "<div style=\"background-color:rgba(252, 245, 255, 1.0); text-align:left; vertical-align: middle; padding:20px 0;border:3px; border-style:solid; padding: 0.5em; border-color: rgba(190, 111, 227, 1.0); color: #000000;\">\n",
    "\n",
    "### Challenge Problem: \n",
    "\n",
    "Make a quantum repeater with three entanglement swaps!\n",
    "\n",
    "<div/>"
   ]
  },
  {
   "cell_type": "code",
   "execution_count": null,
   "id": "1f1ab2b3-37b3-4b09-847b-2be9b5da383a",
   "metadata": {},
   "outputs": [],
   "source": [
    "## your code here"
   ]
  }
 ],
 "metadata": {
  "kernelspec": {
   "display_name": "Python 3 QuantumRings",
   "language": "python",
   "name": "python3_quantu_8bt6c1"
  },
  "language_info": {
   "codemirror_mode": {
    "name": "ipython",
    "version": 3
   },
   "file_extension": ".py",
   "mimetype": "text/x-python",
   "name": "python",
   "nbconvert_exporter": "python",
   "pygments_lexer": "ipython3",
   "version": "3.11.9"
  }
 },
 "nbformat": 4,
 "nbformat_minor": 5
}
